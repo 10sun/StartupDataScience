{
 "cells": [
  {
   "cell_type": "markdown",
   "metadata": {},
   "source": [
    "## Train a Classifier"
   ]
  },
  {
   "cell_type": "code",
   "execution_count": 34,
   "metadata": {},
   "outputs": [
    {
     "data": {
      "text/plain": [
       "['logit.pkl']"
      ]
     },
     "execution_count": 34,
     "metadata": {},
     "output_type": "execute_result"
    }
   ],
   "source": [
    "import pandas as pd\n",
    "from sklearn.externals import joblib\n",
    "from sklearn.linear_model import LogisticRegression\n",
    "\n",
    "df = pd.read_csv(\"https://github.com/bgweber/Twitch/raw/master/Recommendations/games-expand.csv\")\n",
    "y_train = df['label']\n",
    "x_train = df.drop(['label'], axis=1)\n",
    "\n",
    "model = LogisticRegression()\n",
    "model.fit(x_train, y_train)\n",
    "\n",
    "joblib.dump(model, 'logit.pkl')"
   ]
  },
  {
   "cell_type": "markdown",
   "metadata": {},
   "source": [
    "## Define a Lambda Function"
   ]
  },
  {
   "cell_type": "code",
   "execution_count": 35,
   "metadata": {},
   "outputs": [],
   "source": [
    "from sklearn.externals import joblib\n",
    "import pandas as pd\n",
    "\n",
    "model = joblib.load('logit.pkl') \n",
    "\n",
    "def lambda_handler(event, context):    \n",
    "    p = event['queryStringParameters']\n",
    "    print(\"Event params: \" + str(p))\n",
    "    x = pd.DataFrame.from_dict(p, orient='index').transpose()\n",
    "    pred = model.predict_proba(x)[0][1]\n",
    "\n",
    "    result = 'Prediction ' + str(pred)\n",
    "    return {  \"body\": result } "
   ]
  },
  {
   "cell_type": "markdown",
   "metadata": {},
   "source": [
    "## Test the Function"
   ]
  },
  {
   "cell_type": "code",
   "execution_count": 36,
   "metadata": {},
   "outputs": [
    {
     "name": "stdout",
     "output_type": "stream",
     "text": [
      "Event params: {'G1': 1, 'G2': 0, 'G3': 1, 'G4': 1, 'G5': 0, 'G6': 0, 'G7': 1, 'G8': 0, 'G9': 1, 'G10': 0}\n"
     ]
    },
    {
     "data": {
      "text/plain": [
       "{'body': 'Prediction 0.10652960571858472'}"
      ]
     },
     "execution_count": 36,
     "metadata": {},
     "output_type": "execute_result"
    }
   ],
   "source": [
    "event = { 'queryStringParameters': {'G1':1, 'G2':0, 'G3':1, 'G4':1, 'G5':0, 'G6':0, 'G7':1, 'G8':0, 'G9':1, 'G10':0 }}\n",
    "lambda_handler(event, \"\")\n"
   ]
  }
 ],
 "metadata": {
  "kernelspec": {
   "display_name": "Python 3",
   "language": "python",
   "name": "python3"
  },
  "language_info": {
   "codemirror_mode": {
    "name": "ipython",
    "version": 3
   },
   "file_extension": ".py",
   "mimetype": "text/x-python",
   "name": "python",
   "nbconvert_exporter": "python",
   "pygments_lexer": "ipython3",
   "version": "3.6.4"
  }
 },
 "nbformat": 4,
 "nbformat_minor": 2
}
