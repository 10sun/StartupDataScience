{
 "cells": [
  {
   "cell_type": "code",
   "execution_count": null,
   "metadata": {},
   "outputs": [],
   "source": [
    "!pip install --upgrade  pandas\n",
    "!pip install --upgrade  pandas_gbq\n",
    "!pip install --upgrade  pyspark"
   ]
  },
  {
   "cell_type": "code",
   "execution_count": 1,
   "metadata": {},
   "outputs": [
    {
     "data": {
      "text/html": [
       "<div>\n",
       "<style scoped>\n",
       "    .dataframe tbody tr th:only-of-type {\n",
       "        vertical-align: middle;\n",
       "    }\n",
       "\n",
       "    .dataframe tbody tr th {\n",
       "        vertical-align: top;\n",
       "    }\n",
       "\n",
       "    .dataframe thead th {\n",
       "        text-align: right;\n",
       "    }\n",
       "</style>\n",
       "<table border=\"1\" class=\"dataframe\">\n",
       "  <thead>\n",
       "    <tr style=\"text-align: right;\">\n",
       "      <th></th>\n",
       "      <th>source_year</th>\n",
       "      <th>year</th>\n",
       "      <th>month</th>\n",
       "      <th>day</th>\n",
       "      <th>wday</th>\n",
       "      <th>state</th>\n",
       "      <th>is_male</th>\n",
       "      <th>child_race</th>\n",
       "      <th>weight_pounds</th>\n",
       "      <th>plurality</th>\n",
       "      <th>...</th>\n",
       "      <th>alcohol_use</th>\n",
       "      <th>drinks_per_week</th>\n",
       "      <th>weight_gain_pounds</th>\n",
       "      <th>born_alive_alive</th>\n",
       "      <th>born_alive_dead</th>\n",
       "      <th>born_dead</th>\n",
       "      <th>ever_born</th>\n",
       "      <th>father_race</th>\n",
       "      <th>father_age</th>\n",
       "      <th>record_weight</th>\n",
       "    </tr>\n",
       "  </thead>\n",
       "  <tbody>\n",
       "    <tr>\n",
       "      <th>0</th>\n",
       "      <td>1974</td>\n",
       "      <td>1974</td>\n",
       "      <td>6</td>\n",
       "      <td>30</td>\n",
       "      <td>NaN</td>\n",
       "      <td>CA</td>\n",
       "      <td>False</td>\n",
       "      <td>7</td>\n",
       "      <td>4.437905</td>\n",
       "      <td>1</td>\n",
       "      <td>...</td>\n",
       "      <td>None</td>\n",
       "      <td>NaN</td>\n",
       "      <td>NaN</td>\n",
       "      <td>7</td>\n",
       "      <td>55</td>\n",
       "      <td>55</td>\n",
       "      <td>8</td>\n",
       "      <td>7</td>\n",
       "      <td>30</td>\n",
       "      <td>2</td>\n",
       "    </tr>\n",
       "    <tr>\n",
       "      <th>1</th>\n",
       "      <td>1989</td>\n",
       "      <td>1989</td>\n",
       "      <td>9</td>\n",
       "      <td>NaN</td>\n",
       "      <td>6</td>\n",
       "      <td>CA</td>\n",
       "      <td>False</td>\n",
       "      <td>7</td>\n",
       "      <td>6.525683</td>\n",
       "      <td>1</td>\n",
       "      <td>...</td>\n",
       "      <td>None</td>\n",
       "      <td>NaN</td>\n",
       "      <td>99</td>\n",
       "      <td>6</td>\n",
       "      <td>1</td>\n",
       "      <td>1</td>\n",
       "      <td>8</td>\n",
       "      <td>7</td>\n",
       "      <td>34</td>\n",
       "      <td>1</td>\n",
       "    </tr>\n",
       "    <tr>\n",
       "      <th>2</th>\n",
       "      <td>1995</td>\n",
       "      <td>1995</td>\n",
       "      <td>10</td>\n",
       "      <td>NaN</td>\n",
       "      <td>5</td>\n",
       "      <td>CA</td>\n",
       "      <td>False</td>\n",
       "      <td>9</td>\n",
       "      <td>7.661064</td>\n",
       "      <td>1</td>\n",
       "      <td>...</td>\n",
       "      <td>None</td>\n",
       "      <td>NaN</td>\n",
       "      <td>99</td>\n",
       "      <td>7</td>\n",
       "      <td>0</td>\n",
       "      <td>0</td>\n",
       "      <td>8</td>\n",
       "      <td>38</td>\n",
       "      <td>31</td>\n",
       "      <td>1</td>\n",
       "    </tr>\n",
       "    <tr>\n",
       "      <th>3</th>\n",
       "      <td>2004</td>\n",
       "      <td>2004</td>\n",
       "      <td>11</td>\n",
       "      <td>NaN</td>\n",
       "      <td>1</td>\n",
       "      <td>CA</td>\n",
       "      <td>False</td>\n",
       "      <td>NaN</td>\n",
       "      <td>8.688418</td>\n",
       "      <td>1</td>\n",
       "      <td>...</td>\n",
       "      <td>None</td>\n",
       "      <td>NaN</td>\n",
       "      <td>99</td>\n",
       "      <td>11</td>\n",
       "      <td>0</td>\n",
       "      <td>0</td>\n",
       "      <td>12</td>\n",
       "      <td>68</td>\n",
       "      <td>31</td>\n",
       "      <td>1</td>\n",
       "    </tr>\n",
       "    <tr>\n",
       "      <th>4</th>\n",
       "      <td>1969</td>\n",
       "      <td>1969</td>\n",
       "      <td>2</td>\n",
       "      <td>25</td>\n",
       "      <td>NaN</td>\n",
       "      <td>HI</td>\n",
       "      <td>False</td>\n",
       "      <td>6</td>\n",
       "      <td>5.500533</td>\n",
       "      <td>NaN</td>\n",
       "      <td>...</td>\n",
       "      <td>None</td>\n",
       "      <td>NaN</td>\n",
       "      <td>NaN</td>\n",
       "      <td>10</td>\n",
       "      <td>2</td>\n",
       "      <td>0</td>\n",
       "      <td>13</td>\n",
       "      <td>6</td>\n",
       "      <td>38</td>\n",
       "      <td>2</td>\n",
       "    </tr>\n",
       "  </tbody>\n",
       "</table>\n",
       "<p>5 rows × 31 columns</p>\n",
       "</div>"
      ],
      "text/plain": [
       "   source_year  year  month  day wday state  is_male child_race  \\\n",
       "0         1974  1974      6   30  NaN    CA    False          7   \n",
       "1         1989  1989      9  NaN    6    CA    False          7   \n",
       "2         1995  1995     10  NaN    5    CA    False          9   \n",
       "3         2004  2004     11  NaN    1    CA    False        NaN   \n",
       "4         1969  1969      2   25  NaN    HI    False          6   \n",
       "\n",
       "   weight_pounds plurality      ...      alcohol_use drinks_per_week  \\\n",
       "0       4.437905         1      ...             None             NaN   \n",
       "1       6.525683         1      ...             None             NaN   \n",
       "2       7.661064         1      ...             None             NaN   \n",
       "3       8.688418         1      ...             None             NaN   \n",
       "4       5.500533       NaN      ...             None             NaN   \n",
       "\n",
       "  weight_gain_pounds born_alive_alive  born_alive_dead born_dead ever_born  \\\n",
       "0                NaN                7               55        55         8   \n",
       "1                 99                6                1         1         8   \n",
       "2                 99                7                0         0         8   \n",
       "3                 99               11                0         0        12   \n",
       "4                NaN               10                2         0        13   \n",
       "\n",
       "  father_race father_age record_weight  \n",
       "0           7         30             2  \n",
       "1           7         34             1  \n",
       "2          38         31             1  \n",
       "3          68         31             1  \n",
       "4           6         38             2  \n",
       "\n",
       "[5 rows x 31 columns]"
      ]
     },
     "execution_count": 1,
     "metadata": {},
     "output_type": "execute_result"
    }
   ],
   "source": [
    "from pandas.io import gbq\n",
    "\n",
    "project_id = \"your_project_id\"\n",
    "query = \"SELECT * FROM `bigquery-public-data.samples.natality` limit 10000\"\n",
    "\n",
    "births = gbq.read_gbq(query=query, dialect ='standard', project_id=project_id)\n",
    "births.head()"
   ]
  },
  {
   "cell_type": "code",
   "execution_count": 3,
   "metadata": {},
   "outputs": [
    {
     "data": {
      "text/plain": [
       "array([[<matplotlib.axes._subplots.AxesSubplot object at 0x7fd9617ef6a0>,\n",
       "        <matplotlib.axes._subplots.AxesSubplot object at 0x7fd9617cf6a0>]],\n",
       "      dtype=object)"
      ]
     },
     "execution_count": 3,
     "metadata": {},
     "output_type": "execute_result"
    },
    {
     "data": {
      "image/png": "[encoded data removed]",
      "text/plain": [
       "<Figure size 432x288 with 2 Axes>"
      ]
     },
     "metadata": {
      "needs_background": "light"
     },
     "output_type": "display_data"
    }
   ],
   "source": [
    "births[['weight_pounds', 'mother_age']].hist()"
   ]
  },
  {
   "cell_type": "code",
   "execution_count": 4,
   "metadata": {},
   "outputs": [],
   "source": [
    "from pyspark.context import SparkContext\n",
    "from pyspark.sql.session import SparkSession\n",
    "\n",
    "sc = SparkContext()\n",
    "spark = SparkSession(sc)"
   ]
  },
  {
   "cell_type": "code",
   "execution_count": 5,
   "metadata": {},
   "outputs": [
    {
     "data": {
      "text/plain": [
       "10000"
      ]
     },
     "execution_count": 5,
     "metadata": {},
     "output_type": "execute_result"
    }
   ],
   "source": [
    "sparkDF = spark.createDataFrame(births)\n",
    "sparkDF.count()"
   ]
  },
  {
   "cell_type": "code",
   "execution_count": 6,
   "metadata": {},
   "outputs": [
    {
     "name": "stdout",
     "output_type": "stream",
     "text": [
      "+-----------+----+-----+----+----+-----+-------+----------+-------------+---------+----------+----------+----------------------+-----------+----------+---------------+--------+--------------+------------------+-------------+------------------+-----------+---------------+------------------+----------------+---------------+---------+---------+-----------+----------+-------------+\n",
      "|source_year|year|month| day|wday|state|is_male|child_race|weight_pounds|plurality|apgar_1min|apgar_5min|mother_residence_state|mother_race|mother_age|gestation_weeks|     lmp|mother_married|mother_birth_state|cigarette_use|cigarettes_per_day|alcohol_use|drinks_per_week|weight_gain_pounds|born_alive_alive|born_alive_dead|born_dead|ever_born|father_race|father_age|record_weight|\n",
      "+-----------+----+-----+----+----+-----+-------+----------+-------------+---------+----------+----------+----------------------+-----------+----------+---------------+--------+--------------+------------------+-------------+------------------+-----------+---------------+------------------+----------------+---------------+---------+---------+-----------+----------+-------------+\n",
      "|       1974|1974|    6|30.0| NaN|   CA|  false|       7.0|4.43790533406|      1.0|       NaN|       NaN|                    CA|        1.0|        36|           37.0|10131943|          null|                CA|         null|               NaN|       null|            NaN|               NaN|             7.0|           55.0|     55.0|        8|        7.0|        30|            2|\n",
      "|       1989|1989|    9| NaN| 6.0|   CA|  false|       7.0| 6.5256829552|      1.0|      99.0|      99.0|                    CA|        7.0|        33|           39.0|12101988|          true|           Foreign|         null|               NaN|       null|            NaN|              99.0|             6.0|            1.0|      1.0|        8|        7.0|        34|            1|\n",
      "|       1995|1995|   10| NaN| 5.0|   CA|  false|       9.0| 7.6610636045|      1.0|      99.0|      99.0|                    CA|       38.0|        25|           41.0|12161994|          true|           Foreign|         null|               NaN|       null|            NaN|              99.0|             7.0|            0.0|      0.0|        8|       38.0|        31|            1|\n",
      "|       2004|2004|   11| NaN| 1.0|   CA|  false|       NaN|8.68841774542|      1.0|       NaN|       NaN|                    CA|       68.0|        34|            NaN|99999999|          true|                YY|         null|               NaN|       null|            NaN|              99.0|            11.0|            0.0|      0.0|       12|       68.0|        31|            1|\n",
      "|       1969|1969|    2|25.0| NaN|   HI|  false|       6.0| 5.5005334369|      NaN|       NaN|       NaN|                    HI|        6.0|        36|           37.0|06051998|          true|                  |         null|               NaN|       null|            NaN|               NaN|            10.0|            2.0|      0.0|       13|        6.0|        38|            2|\n",
      "+-----------+----+-----+----+----+-----+-------+----------+-------------+---------+----------+----------+----------------------+-----------+----------+---------------+--------+--------------+------------------+-------------+------------------+-----------+---------------+------------------+----------------+---------------+---------+---------+-----------+----------+-------------+\n",
      "only showing top 5 rows\n",
      "\n"
     ]
    }
   ],
   "source": [
    "sparkDF.show(n=5)"
   ]
  }
 ],
 "metadata": {
  "kernelspec": {
   "display_name": "Python 3",
   "language": "python",
   "name": "python3"
  },
  "language_info": {
   "codemirror_mode": {
    "name": "ipython",
    "version": 3
   },
   "file_extension": ".py",
   "mimetype": "text/x-python",
   "name": "python",
   "nbconvert_exporter": "python",
   "pygments_lexer": "ipython3",
   "version": "3.6.5"
  }
 },
 "nbformat": 4,
 "nbformat_minor": 2
}
