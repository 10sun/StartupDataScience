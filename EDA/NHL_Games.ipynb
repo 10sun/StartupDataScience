{
 "cells": [
  {
   "cell_type": "markdown",
   "metadata": {},
   "source": [
    "# Predicting NHL Playoff Games from Event Data\n",
    "\n",
    "Kaggle data set: https://www.kaggle.com/martinellis/nhl-game-data/"
   ]
  },
  {
   "cell_type": "code",
   "execution_count": 120,
   "metadata": {},
   "outputs": [],
   "source": [
    "import pandas as pd\n",
    "import framequery as fq\n",
    "import featuretools as ft\n",
    "import hashlib\n",
    "from featuretools import Feature \n",
    "from sklearn.linear_model import LogisticRegression\n",
    "from sklearn.metrics import roc_auc_score"
   ]
  },
  {
   "cell_type": "code",
   "execution_count": 121,
   "metadata": {},
   "outputs": [],
   "source": [
    "game_df = pd.read_csv(\"game.csv\")"
   ]
  },
  {
   "cell_type": "code",
   "execution_count": 122,
   "metadata": {},
   "outputs": [
    {
     "data": {
      "text/html": [
       "<div>\n",
       "<style scoped>\n",
       "    .dataframe tbody tr th:only-of-type {\n",
       "        vertical-align: middle;\n",
       "    }\n",
       "\n",
       "    .dataframe tbody tr th {\n",
       "        vertical-align: top;\n",
       "    }\n",
       "\n",
       "    .dataframe thead th {\n",
       "        text-align: right;\n",
       "    }\n",
       "</style>\n",
       "<table border=\"1\" class=\"dataframe\">\n",
       "  <thead>\n",
       "    <tr style=\"text-align: right;\">\n",
       "      <th></th>\n",
       "      <th>game_id</th>\n",
       "      <th>season</th>\n",
       "      <th>type</th>\n",
       "      <th>date_time</th>\n",
       "      <th>away_team_id</th>\n",
       "      <th>home_team_id</th>\n",
       "      <th>away_goals</th>\n",
       "      <th>home_goals</th>\n",
       "      <th>outcome</th>\n",
       "      <th>home_rink_side_start</th>\n",
       "      <th>venue</th>\n",
       "      <th>venue_link</th>\n",
       "      <th>venue_time_zone_id</th>\n",
       "      <th>venue_time_zone_offset</th>\n",
       "      <th>venue_time_zone_tz</th>\n",
       "    </tr>\n",
       "  </thead>\n",
       "  <tbody>\n",
       "    <tr>\n",
       "      <th>0</th>\n",
       "      <td>2012030221</td>\n",
       "      <td>20122013</td>\n",
       "      <td>P</td>\n",
       "      <td>2013-05-16</td>\n",
       "      <td>3</td>\n",
       "      <td>6</td>\n",
       "      <td>2</td>\n",
       "      <td>3</td>\n",
       "      <td>home win OT</td>\n",
       "      <td>left</td>\n",
       "      <td>TD Garden</td>\n",
       "      <td>/api/v1/venues/null</td>\n",
       "      <td>America/New_York</td>\n",
       "      <td>-4</td>\n",
       "      <td>EDT</td>\n",
       "    </tr>\n",
       "    <tr>\n",
       "      <th>1</th>\n",
       "      <td>2012030222</td>\n",
       "      <td>20122013</td>\n",
       "      <td>P</td>\n",
       "      <td>2013-05-19</td>\n",
       "      <td>3</td>\n",
       "      <td>6</td>\n",
       "      <td>2</td>\n",
       "      <td>5</td>\n",
       "      <td>home win REG</td>\n",
       "      <td>left</td>\n",
       "      <td>TD Garden</td>\n",
       "      <td>/api/v1/venues/null</td>\n",
       "      <td>America/New_York</td>\n",
       "      <td>-4</td>\n",
       "      <td>EDT</td>\n",
       "    </tr>\n",
       "    <tr>\n",
       "      <th>2</th>\n",
       "      <td>2012030223</td>\n",
       "      <td>20122013</td>\n",
       "      <td>P</td>\n",
       "      <td>2013-05-21</td>\n",
       "      <td>6</td>\n",
       "      <td>3</td>\n",
       "      <td>2</td>\n",
       "      <td>1</td>\n",
       "      <td>away win REG</td>\n",
       "      <td>right</td>\n",
       "      <td>Madison Square Garden</td>\n",
       "      <td>/api/v1/venues/null</td>\n",
       "      <td>America/New_York</td>\n",
       "      <td>-4</td>\n",
       "      <td>EDT</td>\n",
       "    </tr>\n",
       "    <tr>\n",
       "      <th>3</th>\n",
       "      <td>2012030224</td>\n",
       "      <td>20122013</td>\n",
       "      <td>P</td>\n",
       "      <td>2013-05-23</td>\n",
       "      <td>6</td>\n",
       "      <td>3</td>\n",
       "      <td>3</td>\n",
       "      <td>4</td>\n",
       "      <td>home win OT</td>\n",
       "      <td>right</td>\n",
       "      <td>Madison Square Garden</td>\n",
       "      <td>/api/v1/venues/null</td>\n",
       "      <td>America/New_York</td>\n",
       "      <td>-4</td>\n",
       "      <td>EDT</td>\n",
       "    </tr>\n",
       "    <tr>\n",
       "      <th>4</th>\n",
       "      <td>2012030225</td>\n",
       "      <td>20122013</td>\n",
       "      <td>P</td>\n",
       "      <td>2013-05-25</td>\n",
       "      <td>3</td>\n",
       "      <td>6</td>\n",
       "      <td>1</td>\n",
       "      <td>3</td>\n",
       "      <td>home win REG</td>\n",
       "      <td>left</td>\n",
       "      <td>TD Garden</td>\n",
       "      <td>/api/v1/venues/null</td>\n",
       "      <td>America/New_York</td>\n",
       "      <td>-4</td>\n",
       "      <td>EDT</td>\n",
       "    </tr>\n",
       "  </tbody>\n",
       "</table>\n",
       "</div>"
      ],
      "text/plain": [
       "      game_id    season type   date_time  away_team_id  home_team_id  \\\n",
       "0  2012030221  20122013    P  2013-05-16             3             6   \n",
       "1  2012030222  20122013    P  2013-05-19             3             6   \n",
       "2  2012030223  20122013    P  2013-05-21             6             3   \n",
       "3  2012030224  20122013    P  2013-05-23             6             3   \n",
       "4  2012030225  20122013    P  2013-05-25             3             6   \n",
       "\n",
       "   away_goals  home_goals       outcome home_rink_side_start  \\\n",
       "0           2           3   home win OT                 left   \n",
       "1           2           5  home win REG                 left   \n",
       "2           2           1  away win REG                right   \n",
       "3           3           4   home win OT                right   \n",
       "4           1           3  home win REG                 left   \n",
       "\n",
       "                   venue           venue_link venue_time_zone_id  \\\n",
       "0              TD Garden  /api/v1/venues/null   America/New_York   \n",
       "1              TD Garden  /api/v1/venues/null   America/New_York   \n",
       "2  Madison Square Garden  /api/v1/venues/null   America/New_York   \n",
       "3  Madison Square Garden  /api/v1/venues/null   America/New_York   \n",
       "4              TD Garden  /api/v1/venues/null   America/New_York   \n",
       "\n",
       "   venue_time_zone_offset venue_time_zone_tz  \n",
       "0                      -4                EDT  \n",
       "1                      -4                EDT  \n",
       "2                      -4                EDT  \n",
       "3                      -4                EDT  \n",
       "4                      -4                EDT  "
      ]
     },
     "execution_count": 122,
     "metadata": {},
     "output_type": "execute_result"
    }
   ],
   "source": [
    "game_df.head()"
   ]
  },
  {
   "cell_type": "code",
   "execution_count": 123,
   "metadata": {},
   "outputs": [],
   "source": [
    "plays_df = pd.read_csv(\"game_plays.csv\")\n",
    "\n",
    "# select a ~10% sample of the games\n",
    "plays_df = fq.execute(\"\"\"\n",
    "select *\n",
    "FROM plays_df\n",
    "where game_id % 10 = 1\n",
    "\"\"\")\n"
   ]
  },
  {
   "cell_type": "code",
   "execution_count": 124,
   "metadata": {},
   "outputs": [
    {
     "data": {
      "text/html": [
       "<div>\n",
       "<style scoped>\n",
       "    .dataframe tbody tr th:only-of-type {\n",
       "        vertical-align: middle;\n",
       "    }\n",
       "\n",
       "    .dataframe tbody tr th {\n",
       "        vertical-align: top;\n",
       "    }\n",
       "\n",
       "    .dataframe thead th {\n",
       "        text-align: right;\n",
       "    }\n",
       "</style>\n",
       "<table border=\"1\" class=\"dataframe\">\n",
       "  <thead>\n",
       "    <tr style=\"text-align: right;\">\n",
       "      <th></th>\n",
       "      <th>play_id</th>\n",
       "      <th>game_id</th>\n",
       "      <th>play_num</th>\n",
       "      <th>team_id_for</th>\n",
       "      <th>team_id_against</th>\n",
       "      <th>event</th>\n",
       "      <th>x</th>\n",
       "      <th>y</th>\n",
       "      <th>period</th>\n",
       "      <th>periodTime</th>\n",
       "      <th>periodTimeRemaining</th>\n",
       "      <th>goals_away</th>\n",
       "      <th>goals_home</th>\n",
       "      <th>description</th>\n",
       "      <th>st_x</th>\n",
       "      <th>st_y</th>\n",
       "    </tr>\n",
       "  </thead>\n",
       "  <tbody>\n",
       "    <tr>\n",
       "      <th>1</th>\n",
       "      <td>2012030221_45</td>\n",
       "      <td>2012030221</td>\n",
       "      <td>45</td>\n",
       "      <td>0.0</td>\n",
       "      <td>0.0</td>\n",
       "      <td>-8402842510844108862</td>\n",
       "      <td>0.0</td>\n",
       "      <td>0.0</td>\n",
       "      <td>1</td>\n",
       "      <td>501</td>\n",
       "      <td>699</td>\n",
       "      <td>0</td>\n",
       "      <td>0</td>\n",
       "      <td>-1912551273318350847</td>\n",
       "      <td>0.0</td>\n",
       "      <td>0.0</td>\n",
       "    </tr>\n",
       "    <tr>\n",
       "      <th>3</th>\n",
       "      <td>2012030221_1</td>\n",
       "      <td>2012030221</td>\n",
       "      <td>1</td>\n",
       "      <td>0.0</td>\n",
       "      <td>0.0</td>\n",
       "      <td>6197313212850204841</td>\n",
       "      <td>0.0</td>\n",
       "      <td>0.0</td>\n",
       "      <td>1</td>\n",
       "      <td>0</td>\n",
       "      <td>1200</td>\n",
       "      <td>0</td>\n",
       "      <td>0</td>\n",
       "      <td>6197313212850204841</td>\n",
       "      <td>0.0</td>\n",
       "      <td>0.0</td>\n",
       "    </tr>\n",
       "    <tr>\n",
       "      <th>4</th>\n",
       "      <td>2012030221_2</td>\n",
       "      <td>2012030221</td>\n",
       "      <td>2</td>\n",
       "      <td>0.0</td>\n",
       "      <td>0.0</td>\n",
       "      <td>-1274977264371641193</td>\n",
       "      <td>0.0</td>\n",
       "      <td>0.0</td>\n",
       "      <td>1</td>\n",
       "      <td>0</td>\n",
       "      <td>1200</td>\n",
       "      <td>0</td>\n",
       "      <td>0</td>\n",
       "      <td>-1274977264371641193</td>\n",
       "      <td>0.0</td>\n",
       "      <td>0.0</td>\n",
       "    </tr>\n",
       "    <tr>\n",
       "      <th>5</th>\n",
       "      <td>2012030221_3</td>\n",
       "      <td>2012030221</td>\n",
       "      <td>3</td>\n",
       "      <td>0.0</td>\n",
       "      <td>0.0</td>\n",
       "      <td>8193249223154536421</td>\n",
       "      <td>0.0</td>\n",
       "      <td>0.0</td>\n",
       "      <td>1</td>\n",
       "      <td>0</td>\n",
       "      <td>1200</td>\n",
       "      <td>0</td>\n",
       "      <td>0</td>\n",
       "      <td>8193249223154536421</td>\n",
       "      <td>0.0</td>\n",
       "      <td>0.0</td>\n",
       "    </tr>\n",
       "    <tr>\n",
       "      <th>6</th>\n",
       "      <td>2012030221_4</td>\n",
       "      <td>2012030221</td>\n",
       "      <td>4</td>\n",
       "      <td>6.0</td>\n",
       "      <td>3.0</td>\n",
       "      <td>4788985380621854529</td>\n",
       "      <td>0.0</td>\n",
       "      <td>0.0</td>\n",
       "      <td>1</td>\n",
       "      <td>0</td>\n",
       "      <td>1200</td>\n",
       "      <td>0</td>\n",
       "      <td>0</td>\n",
       "      <td>8479129636391762706</td>\n",
       "      <td>0.0</td>\n",
       "      <td>0.0</td>\n",
       "    </tr>\n",
       "  </tbody>\n",
       "</table>\n",
       "</div>"
      ],
      "text/plain": [
       "         play_id     game_id  play_num  team_id_for  team_id_against  \\\n",
       "1  2012030221_45  2012030221        45          0.0              0.0   \n",
       "3   2012030221_1  2012030221         1          0.0              0.0   \n",
       "4   2012030221_2  2012030221         2          0.0              0.0   \n",
       "5   2012030221_3  2012030221         3          0.0              0.0   \n",
       "6   2012030221_4  2012030221         4          6.0              3.0   \n",
       "\n",
       "                 event    x    y  period  periodTime  periodTimeRemaining  \\\n",
       "1 -8402842510844108862  0.0  0.0       1         501                  699   \n",
       "3  6197313212850204841  0.0  0.0       1           0                 1200   \n",
       "4 -1274977264371641193  0.0  0.0       1           0                 1200   \n",
       "5  8193249223154536421  0.0  0.0       1           0                 1200   \n",
       "6  4788985380621854529  0.0  0.0       1           0                 1200   \n",
       "\n",
       "   goals_away  goals_home          description  st_x  st_y  \n",
       "1           0           0 -1912551273318350847   0.0   0.0  \n",
       "3           0           0  6197313212850204841   0.0   0.0  \n",
       "4           0           0 -1274977264371641193   0.0   0.0  \n",
       "5           0           0  8193249223154536421   0.0   0.0  \n",
       "6           0           0  8479129636391762706   0.0   0.0  "
      ]
     },
     "execution_count": 124,
     "metadata": {},
     "output_type": "execute_result"
    }
   ],
   "source": [
    "# drop some of the string type fields\n",
    "plays_df = plays_df.drop(['secondaryType', 'periodType', 'dateTime', 'rink_side'], axis=1).fillna(0)\n",
    "\n",
    "# convert the remaining strings to integer types via hashing\n",
    "plays_df['event'] = plays_df['event'].apply(hash)\n",
    "plays_df['description'] = plays_df['description'].apply(hash)\n",
    "\n",
    "plays_df.head()\n"
   ]
  },
  {
   "cell_type": "code",
   "execution_count": 125,
   "metadata": {},
   "outputs": [],
   "source": [
    "\n",
    "# create feature encodings for the event and description fields\n",
    "es = ft.EntitySet(id=\"plays\")\n",
    "es = es.entity_from_dataframe(entity_id=\"plays\", dataframe=plays_df, index=\"play_id\",\n",
    "           variable_types = { \"event\": ft.variable_types.Categorical, \"description\": ft.variable_types.Categorical })       \n",
    "         \n",
    "f1 = Feature(es[\"plays\"][\"event\"])\n",
    "f2 = Feature(es[\"plays\"][\"description\"])\n",
    "\n",
    "encoded, _= ft.encode_features(plays_df, [f1, f2], top_n=10)\n",
    "encoded.reset_index(inplace=True)\n",
    "\n",
    "# create an entry set of the encoded play data and games\n",
    "es = ft.EntitySet(id=\"plays\")\n",
    "es = es.entity_from_dataframe(entity_id=\"plays\", dataframe=encoded, index=\"play_id\")\n",
    "es = es.normalize_entity(base_entity_id=\"plays\",new_entity_id=\"games\", index=\"game_id\")"
   ]
  },
  {
   "cell_type": "code",
   "execution_count": 126,
   "metadata": {},
   "outputs": [
    {
     "data": {
      "text/plain": [
       "Entityset: plays\n",
       "  Entities:\n",
       "    plays [Rows: 250250, Columns: 37]\n",
       "    games [Rows: 764, Columns: 1]\n",
       "  Relationships:\n",
       "    plays.game_id -> games.game_id"
      ]
     },
     "execution_count": 126,
     "metadata": {},
     "output_type": "execute_result"
    }
   ],
   "source": [
    "es"
   ]
  },
  {
   "cell_type": "code",
   "execution_count": 127,
   "metadata": {},
   "outputs": [
    {
     "data": {
      "text/plain": [
       "(764, 212)"
      ]
     },
     "execution_count": 127,
     "metadata": {},
     "output_type": "execute_result"
    }
   ],
   "source": [
    "features, defs = ft.dfs(entityset=es, target_entity=\"games\", max_depth = 2)\n",
    "features.reset_index(inplace=True)\n",
    "features.shape"
   ]
  },
  {
   "cell_type": "code",
   "execution_count": 128,
   "metadata": {},
   "outputs": [],
   "source": [
    "# assign labels to the generated features\n",
    "features = fq.execute(\"\"\"\n",
    "SELECT f.*, case when g.type = 'P' then 1 else 0 end as label\n",
    "FROM features f \n",
    "JOIN game_df g\n",
    "  on f.game_id = g.game_id\n",
    "\"\"\")"
   ]
  },
  {
   "cell_type": "code",
   "execution_count": 129,
   "metadata": {},
   "outputs": [
    {
     "data": {
      "text/html": [
       "<div>\n",
       "<style scoped>\n",
       "    .dataframe tbody tr th:only-of-type {\n",
       "        vertical-align: middle;\n",
       "    }\n",
       "\n",
       "    .dataframe tbody tr th {\n",
       "        vertical-align: top;\n",
       "    }\n",
       "\n",
       "    .dataframe thead th {\n",
       "        text-align: right;\n",
       "    }\n",
       "</style>\n",
       "<table border=\"1\" class=\"dataframe\">\n",
       "  <thead>\n",
       "    <tr style=\"text-align: right;\">\n",
       "      <th></th>\n",
       "      <th>label</th>\n",
       "      <th>plays</th>\n",
       "    </tr>\n",
       "  </thead>\n",
       "  <tbody>\n",
       "    <tr>\n",
       "      <th>0</th>\n",
       "      <td>0</td>\n",
       "      <td>674</td>\n",
       "    </tr>\n",
       "    <tr>\n",
       "      <th>1</th>\n",
       "      <td>1</td>\n",
       "      <td>90</td>\n",
       "    </tr>\n",
       "  </tbody>\n",
       "</table>\n",
       "</div>"
      ],
      "text/plain": [
       "   label  plays\n",
       "0      0    674\n",
       "1      1     90"
      ]
     },
     "execution_count": 129,
     "metadata": {},
     "output_type": "execute_result"
    }
   ],
   "source": [
    "# count the labels\n",
    "fq.execute(\"\"\"\n",
    "select label, sum(1) as plays\n",
    "FROM features\n",
    "group by label\n",
    "\"\"\")"
   ]
  },
  {
   "cell_type": "code",
   "execution_count": 130,
   "metadata": {},
   "outputs": [],
   "source": [
    "y = features['label']\n",
    "X = features.drop(['label', 'game_id'], axis=1).fillna(0)"
   ]
  },
  {
   "cell_type": "code",
   "execution_count": 131,
   "metadata": {
    "scrolled": true
   },
   "outputs": [
    {
     "data": {
      "text/plain": [
       "0.9345549738219895"
      ]
     },
     "execution_count": 131,
     "metadata": {},
     "output_type": "execute_result"
    }
   ],
   "source": [
    "lr = LogisticRegression()\n",
    "\n",
    "model = lr.fit(X, y)\n",
    "model.score(X, y)"
   ]
  },
  {
   "cell_type": "code",
   "execution_count": 132,
   "metadata": {},
   "outputs": [
    {
     "data": {
      "text/plain": [
       "0.9803824596109463"
      ]
     },
     "execution_count": 132,
     "metadata": {},
     "output_type": "execute_result"
    }
   ],
   "source": [
    "\n",
    "roc_auc_score(y, model.predict_proba(X)[:, 1] )\n",
    "    "
   ]
  }
 ],
 "metadata": {
  "kernelspec": {
   "display_name": "Python 3",
   "language": "python",
   "name": "python3"
  },
  "language_info": {
   "codemirror_mode": {
    "name": "ipython",
    "version": 3
   },
   "file_extension": ".py",
   "mimetype": "text/x-python",
   "name": "python",
   "nbconvert_exporter": "python",
   "pygments_lexer": "ipython3",
   "version": "3.6.4"
  }
 },
 "nbformat": 4,
 "nbformat_minor": 2
}
