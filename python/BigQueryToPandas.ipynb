{
 "cells": [
  {
   "cell_type": "code",
   "execution_count": 5,
   "metadata": {},
   "outputs": [],
   "source": [
    "import pandas as pd\n",
    "projectid = \"your_project_id\""
   ]
  },
  {
   "cell_type": "code",
   "execution_count": 2,
   "metadata": {},
   "outputs": [
    {
     "name": "stdout",
     "output_type": "stream",
     "text": [
      "<class 'pandas.core.frame.DataFrame'>\n",
      "RangeIndex: 100 entries, 0 to 99\n",
      "Data columns (total 31 columns):\n",
      "source_year               100 non-null int64\n",
      "year                      100 non-null int64\n",
      "month                     100 non-null int64\n",
      "day                       49 non-null object\n",
      "wday                      51 non-null object\n",
      "state                     86 non-null object\n",
      "is_male                   100 non-null bool\n",
      "child_race                67 non-null object\n",
      "weight_pounds             100 non-null float64\n",
      "plurality                 94 non-null object\n",
      "apgar_1min                52 non-null object\n",
      "apgar_5min                71 non-null object\n",
      "mother_residence_state    86 non-null object\n",
      "mother_race               100 non-null int64\n",
      "mother_age                100 non-null int64\n",
      "gestation_weeks           96 non-null object\n",
      "lmp                       100 non-null object\n",
      "mother_married            93 non-null object\n",
      "mother_birth_state        86 non-null object\n",
      "cigarette_use             19 non-null object\n",
      "cigarettes_per_day        1 non-null object\n",
      "alcohol_use               28 non-null object\n",
      "drinks_per_week           1 non-null object\n",
      "weight_gain_pounds        50 non-null object\n",
      "born_alive_alive          94 non-null object\n",
      "born_alive_dead           94 non-null object\n",
      "born_dead                 94 non-null object\n",
      "ever_born                 100 non-null int64\n",
      "father_race               100 non-null int64\n",
      "father_age                100 non-null int64\n",
      "record_weight             100 non-null int64\n",
      "dtypes: bool(1), float64(1), int64(9), object(20)\n",
      "memory usage: 23.6+ KB\n"
     ]
    }
   ],
   "source": [
    "df = pd.read_gbq(\"\"\"SELECT * \n",
    "    FROM `bigquery-public-data.samples.natality` limit 100\"\"\",\n",
    "    projectid, dialect = \"standard\")\n",
    "df.info()"
   ]
  },
  {
   "cell_type": "code",
   "execution_count": 4,
   "metadata": {},
   "outputs": [
    {
     "data": {
      "text/plain": [
       "array([[<matplotlib.axes._subplots.AxesSubplot object at 0x7f4395f8d128>,\n",
       "        <matplotlib.axes._subplots.AxesSubplot object at 0x7f4395fba4e0>]],\n",
       "      dtype=object)"
      ]
     },
     "execution_count": 4,
     "metadata": {},
     "output_type": "execute_result"
    },
    {
     "data": {
      "image/png": "[encoded data removed]",
      "text/plain": [
       "<Figure size 432x288 with 2 Axes>"
      ]
     },
     "metadata": {},
     "output_type": "display_data"
    }
   ],
   "source": [
    "df[['weight_pounds', 'mother_age']].hist()"
   ]
  }
 ],
 "metadata": {
  "kernelspec": {
   "display_name": "Python 3",
   "language": "python",
   "name": "python3"
  },
  "language_info": {
   "codemirror_mode": {
    "name": "ipython",
    "version": 3
   },
   "file_extension": ".py",
   "mimetype": "text/x-python",
   "name": "python",
   "nbconvert_exporter": "python",
   "pygments_lexer": "ipython3",
   "version": "3.6.5"
  }
 },
 "nbformat": 4,
 "nbformat_minor": 2
}
